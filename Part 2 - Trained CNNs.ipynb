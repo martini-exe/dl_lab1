{
 "cells": [
  {
   "cell_type": "markdown",
   "id": "ce52e4cd",
   "metadata": {},
   "source": [
    "`Rasmus Utz Faber`\n",
    "\n",
    "`Martín Omil Nogales`\n",
    "\n",
    "# Unit 3 - Part 2: Trained CNNs\n",
    "\n"
   ]
  },
  {
   "cell_type": "markdown",
   "id": "ef095f6a",
   "metadata": {},
   "source": [
    "## 1. Selection of models, data extraction and preprocessing"
   ]
  },
  {
   "cell_type": "code",
   "execution_count": null,
   "id": "f05c123e",
   "metadata": {},
   "outputs": [],
   "source": [
    "import tensorflow as tf\n",
    "from tensorflow import keras\n",
    "from sklearn.model_selection import train_test_split\n",
    "import numpy as np\n",
    "\n",
    "# Step 1: Load and Preprocess Data\n",
    "(x_train, y_train), (x_test, y_test) = keras.datasets.cifar100.load_data()\n",
    "\n",
    "# Normalize pixel values to [0, 1]\n",
    "x_train = x_train.astype('float32') / 255.0\n",
    "x_test = x_test.astype('float32') / 255.0\n",
    "\n",
    "# Extract a validation set from the training set (10%)\n",
    "x_train, x_val, y_train, y_val = train_test_split(x_train, y_train, test_size=0.1, random_state=42)\n",
    "\n",
    "IMG_SIZE = (224, 224)\n",
    "\n",
    "def resize_images(images):\n",
    "    resized_images = []\n",
    "    for image in images:\n",
    "        resized_image = tf.image.resize(image, IMG_SIZE)  # Keep as Tensor\n",
    "        resized_images.append(resized_image)\n",
    "    return tf.convert_to_tensor(resized_images)  # Convert the entire list to a tensor\n",
    "\n",
    "x_train = resize_images(x_train)\n",
    "x_val = resize_images(x_val)\n",
    "x_test = resize_images(x_test)\n",
    "\n",
    "# Data Augmentation Layer\n",
    "data_augmentation = keras.Sequential([\n",
    "    keras.layers.RandomFlip(\"horizontal\"),\n",
    "    keras.layers.RandomRotation(0.2),\n",
    "    keras.layers.RandomZoom(0.2),\n",
    "    keras.layers.RandomTranslation(0.1, 0.1)\n",
    "])"
   ]
  },
  {
   "cell_type": "markdown",
   "id": "d64dcf6d",
   "metadata": {},
   "source": [
    "## 2. Feature Extraction"
   ]
  },
  {
   "cell_type": "code",
   "execution_count": null,
   "id": "84a15955",
   "metadata": {},
   "outputs": [],
   "source": [
    "# Step 2: Feature Extraction (Initial Setup)\n",
    "def build_feature_extractor(model_name):\n",
    "    base_model = None\n",
    "\n",
    "    if model_name == 'ResNet50V2':\n",
    "        base_model = keras.applications.ResNet50V2(weights=\"imagenet\", include_top=False, input_shape=(224, 224, 3))\n",
    "    elif model_name == 'VGG19':\n",
    "        base_model = keras.applications.VGG19(weights=\"imagenet\", include_top=False, input_shape=(224, 224, 3))\n",
    "    elif model_name == 'MobileNet':\n",
    "        base_model = keras.applications.MobileNet(weights=\"imagenet\", include_top=False, input_shape=(224, 224, 3))\n",
    "    elif model_name == 'InceptionV3':\n",
    "        base_model = keras.applications.InceptionV3(weights=\"imagenet\", include_top=False, input_shape=(224, 224, 3))\n",
    "    elif model_name == 'ResNet101V2':\n",
    "        base_model = keras.applications.ResNet101V2(weights=\"imagenet\", include_top=False, input_shape=(224, 224, 3))\n",
    "\n",
    "    base_model.trainable = False  # Freeze the pretrained model\n",
    "\n",
    "    model = keras.Sequential([\n",
    "        data_augmentation,  # Applying Data Augmentation\n",
    "        base_model,\n",
    "        keras.layers.GlobalAveragePooling2D(),\n",
    "        keras.layers.Dense(512, activation='relu'),\n",
    "        keras.layers.Dropout(0.5),\n",
    "        keras.layers.Dense(100, activation='softmax')  # CIFAR-100 has 100 classes\n",
    "    ])\n",
    "\n",
    "    model.compile(optimizer='adam', loss='sparse_categorical_crossentropy', metrics=['accuracy'])\n",
    "    return model\n"
   ]
  },
  {
   "cell_type": "code",
   "execution_count": null,
   "id": "d5e60c69",
   "metadata": {},
   "outputs": [],
   "source": [
    "# Step 2: Training the models for Feature Extraction\n",
    "\n",
    "def train_model(model_name):\n",
    "    model = build_feature_extractor(model_name)\n",
    "    print(f\"\\nTraining {model_name} with Feature Extraction...\")\n",
    "\n",
    "    history = model.fit(\n",
    "        x_train, y_train,\n",
    "        validation_data=(x_val, y_val),\n",
    "        epochs=5,\n",
    "        batch_size=32\n",
    "    )\n",
    "    \n",
    "    test_loss, test_acc = model.evaluate(x_test, y_test)\n",
    "    print(f\"{model_name} Test Accuracy: {test_acc * 100:.2f}%\")\n",
    "\n",
    "    return history, test_acc\n",
    "\n",
    "\n",
    "# Models to train\n",
    "model_names = ['ResNet50V2', 'VGG19', 'MobileNet', 'InceptionV3', 'ResNet101V2']\n",
    "\n",
    "results = {}\n",
    "\n",
    "for model_name in model_names:\n",
    "    history, test_acc = train_model(model_name)\n",
    "    results[model_name] = test_acc"
   ]
  },
  {
   "cell_type": "markdown",
   "id": "611562f3",
   "metadata": {},
   "source": [
    "## 3. Fine Tuning"
   ]
  },
  {
   "cell_type": "code",
   "execution_count": null,
   "id": "9f7c2a7c",
   "metadata": {},
   "outputs": [],
   "source": [
    "# Step 3: Fine-Tuning the models\n",
    "\n",
    "def fine_tune_model(model_name):\n",
    "    model = keras.models.load_model(f'{model_name}_feature_extractor.h5')\n",
    "\n",
    "    # Unfreeze some layers (last 2 blocks)\n",
    "    base_model = model.layers[0]\n",
    "    base_model.trainable = True\n",
    "\n",
    "    for layer in base_model.layers[:-30]:  # Keep most layers frozen\n",
    "        layer.trainable = False\n",
    "\n",
    "    # Compile the model with a low learning rate\n",
    "    model.compile(optimizer=keras.optimizers.Adam(learning_rate=1e-5),\n",
    "                  loss='sparse_categorical_crossentropy',\n",
    "                  metrics=['accuracy'])\n",
    "\n",
    "    print(f\"\\nFine-tuning {model_name}...\")\n",
    "\n",
    "    history = model.fit(\n",
    "        x_train, y_train,\n",
    "        validation_data=(x_val, y_val),\n",
    "        epochs=5,\n",
    "        batch_size=32\n",
    "    )\n",
    "\n",
    "    test_loss, test_acc = model.evaluate(x_test, y_test)\n",
    "    print(f\"{model_name} Fine-Tuning Test Accuracy: {test_acc * 100:.2f}%\")\n",
    "\n",
    "    return history, test_acc\n",
    "\n"
   ]
  },
  {
   "cell_type": "markdown",
   "id": "a10e4b6b",
   "metadata": {},
   "source": [
    "## 4. Training"
   ]
  },
  {
   "cell_type": "code",
   "execution_count": null,
   "id": "da935e8d",
   "metadata": {},
   "outputs": [],
   "source": [
    "# Models to train and fine-tune\n",
    "model_names = ['ResNet50V2', 'VGG19', 'MobileNet', 'InceptionV3', 'ResNet101V2']\n",
    "\n",
    "results = {}\n",
    "\n",
    "for model_name in model_names:\n",
    "    # Feature Extraction\n",
    "    history, test_acc = train_model(model_name)\n",
    "    results[f'{model_name} (Feature Extraction)'] = test_acc\n",
    "\n",
    "    # Fine-Tuning\n",
    "    history, test_acc = fine_tune_model(model_name)\n",
    "    results[f'{model_name} (Fine-Tuning)'] = test_acc\n",
    "\n",
    "print(\"\\nAll Results:\", results)\n"
   ]
  },
  {
   "cell_type": "markdown",
   "id": "7520a65c",
   "metadata": {},
   "source": [
    "## 5. Graph"
   ]
  },
  {
   "cell_type": "code",
   "execution_count": null,
   "id": "5104c523",
   "metadata": {},
   "outputs": [],
   "source": [
    "import matplotlib as plt\n",
    "\n",
    "# Generate Performance Comparison Graph\n",
    "labels = list(results.keys())\n",
    "scores = list(results.values())\n",
    "\n",
    "plt.figure(figsize=(12, 6))\n",
    "plt.barh(labels, scores, color='skyblue')\n",
    "plt.xlabel('Test Accuracy')\n",
    "plt.title('Performance Comparison of Pretrained Models on CIFAR-100')\n",
    "plt.grid(True)\n",
    "plt.show()\n"
   ]
  },
  {
   "cell_type": "code",
   "execution_count": null,
   "id": "181c0f6d",
   "metadata": {},
   "outputs": [],
   "source": [
    "import pandas as pd\n",
    "\n",
    "# Generate Performance Comparison Table\n",
    "results_df = pd.DataFrame(list(results.items()), columns=['Model and Strategy', 'Test Accuracy'])\n",
    "\n",
    "print(\"\\nPerformance Comparison Table:\\n\")\n",
    "print(results_df.to_string(index=False))"
   ]
  }
 ],
 "metadata": {
  "kernelspec": {
   "display_name": "Python 3 (ipykernel)",
   "language": "python",
   "name": "python3"
  },
  "language_info": {
   "codemirror_mode": {
    "name": "ipython",
    "version": 3
   },
   "file_extension": ".py",
   "mimetype": "text/x-python",
   "name": "python",
   "nbconvert_exporter": "python",
   "pygments_lexer": "ipython3",
   "version": "3.11.11"
  }
 },
 "nbformat": 4,
 "nbformat_minor": 5
}
